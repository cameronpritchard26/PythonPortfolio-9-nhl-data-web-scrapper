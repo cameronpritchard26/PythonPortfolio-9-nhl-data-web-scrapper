{
 "cells": [
  {
   "cell_type": "code",
   "execution_count": 11,
   "metadata": {},
   "outputs": [],
   "source": [
    "from bs4 import BeautifulSoup\n",
    "import requests\n",
    "import csv\n",
    "import time"
   ]
  },
  {
   "cell_type": "code",
   "execution_count": 32,
   "metadata": {},
   "outputs": [],
   "source": [
    "FIELDS = ['Name', 'Division', 'Season', 'AvAge', 'GP', 'W', 'L', 'OL', 'PTS', 'PTS%', 'GF', \n",
    "          'GA', 'SRS', 'SOS', 'GF/G', 'GA/G', 'PP', 'PPO', 'PP%', 'PPA', 'PPOA', \n",
    "          'PK%', 'SH', 'SHA', 'S', 'S%', 'SA', 'SV%', 'PDO', 'SO', 'S%', \n",
    "          'SV%', 'PDO', 'CF', 'CA', 'CF%', 'xGF', 'xGA', 'aGF', 'aGA', 'axDiff', \n",
    "          'SCF', 'SCA', 'SCF%', 'HDF', 'HDA', 'HDF%', 'HDGF', 'HDC%', 'HDGA', 'HDCO%']"
   ]
  },
  {
   "cell_type": "code",
   "execution_count": 2,
   "metadata": {},
   "outputs": [],
   "source": [
    "START_SITE = 'https://www.hockey-reference.com/leagues/NHL_2024.html'\n",
    "start_response = requests.get(START_SITE)\n",
    "start_soup = BeautifulSoup(start_response.text, 'html.parser')"
   ]
  },
  {
   "cell_type": "code",
   "execution_count": 3,
   "metadata": {},
   "outputs": [],
   "source": [
    "eastern_conference_teams = start_soup.select(selector='table#standings_EAS tr th a')\n",
    "eastern_conference_team_links = [team.get('href') for team in eastern_conference_teams]\n",
    "western_conference_teams = start_soup.select(selector='table#standings_WES tr th a')\n",
    "western_conference_team_links = [team.get('href') for team in western_conference_teams]\n",
    "team_links = eastern_conference_team_links + western_conference_team_links"
   ]
  },
  {
   "cell_type": "code",
   "execution_count": 27,
   "metadata": {},
   "outputs": [
    {
     "name": "stdout",
     "output_type": "stream",
     "text": [
      "Florida Panthers\n",
      "Atlantic\n"
     ]
    }
   ],
   "source": [
    "current_link = team_links[0]\n",
    "\n",
    "new_site = 'https://www.hockey-reference.com' + current_link\n",
    "response = requests.get(new_site)\n",
    "soup = BeautifulSoup(response.text, 'html.parser')\n",
    "team_name = soup.select(selector='h1 span')[1].text\n",
    "division = soup.select(selector='div#meta div p')[2].text.split(' ')[7][4:]\n",
    "print(team_name)\n",
    "print(division)"
   ]
  },
  {
   "cell_type": "code",
   "execution_count": 18,
   "metadata": {},
   "outputs": [
    {
     "name": "stdout",
     "output_type": "stream",
     "text": [
      "average_age 29.5\n",
      "games 82\n",
      "wins 52\n",
      "losses 24\n",
      "losses_ot 6\n",
      "points 110\n",
      "points_pct .671\n",
      "goals 265\n",
      "goals_against 198\n",
      "srs 0.81\n",
      "sos -0.02\n",
      "goals_for_per_game 3.23\n",
      "goals_against_per_game 2.41\n",
      "goals_pp 63\n",
      "chances_pp 268\n",
      "power_play_pct 23.51\n",
      "opp_goals_pp 51\n",
      "opp_chances_pp 291\n",
      "pen_kill_pct 82.47\n",
      "goals_sh 8\n",
      "opp_goals_sh 9\n",
      "shots 2764\n",
      "shot_pct 9.6\n",
      "shots_against 2279\n",
      "save_pct .913\n",
      "pdo 100.6\n",
      "shutouts 8\n",
      "shot_pct_5on5 7.2\n",
      "sv_pct_5on5 .935\n",
      "pdo 100.6\n",
      "corsi_for_5on5 4212\n",
      "corsi_against_5on5 3288\n",
      "corsi_pct_5on5 56.2\n",
      "exp_on_goals_for 166.2\n",
      "exp_on_goals_against 144.8\n",
      "actual_goals 156\n",
      "actual_goals_against 119\n",
      "actual_expected_diff 16\n",
      "sc_for 1889\n",
      "sc_against 1550\n",
      "sc_for_pct 54.9\n",
      "hdsc_for 673\n",
      "hdsc_against 545\n",
      "hdsc_for_pct 55.3\n",
      "hdscgoal_for 51\n",
      "hdsc_shot_pct 7.0\n",
      "hdscgoal_against 57\n",
      "hdsc_opp_shot_pct 9.5\n"
     ]
    }
   ],
   "source": [
    "team_stats = soup.select(selector='table#team_stats tr')[1]\n",
    "for stat in team_stats:\n",
    "    statistic = stat.get('data-stat')\n",
    "    if statistic == 'team_name':\n",
    "        continue\n",
    "    value = stat.text\n",
    "    print(statistic, value)\n",
    "team_analytics = soup.select(selector='table#team_stats_adv tr')[1]\n",
    "for analytic in team_analytics:\n",
    "    statistic = analytic.get('data-stat')\n",
    "    if statistic == 'team_name':\n",
    "        continue\n",
    "    value = analytic.text\n",
    "    print(statistic, value)"
   ]
  },
  {
   "cell_type": "code",
   "execution_count": 33,
   "metadata": {},
   "outputs": [
    {
     "name": "stdout",
     "output_type": "stream",
     "text": [
      "2023-24\n"
     ]
    }
   ],
   "source": [
    "print(soup.select_one(selector='h1 span').text)"
   ]
  },
  {
   "cell_type": "code",
   "execution_count": 34,
   "metadata": {},
   "outputs": [
    {
     "ename": "ValueError",
     "evalue": "dict contains fields not in fieldnames: None",
     "output_type": "error",
     "traceback": [
      "\u001b[1;31m---------------------------------------------------------------------------\u001b[0m",
      "\u001b[1;31mValueError\u001b[0m                                Traceback (most recent call last)",
      "Cell \u001b[1;32mIn[34], line 30\u001b[0m\n\u001b[0;32m     28\u001b[0m     value \u001b[38;5;241m=\u001b[39m analytic\u001b[38;5;241m.\u001b[39mtext\n\u001b[0;32m     29\u001b[0m     data_dict[statistic] \u001b[38;5;241m=\u001b[39m value\n\u001b[1;32m---> 30\u001b[0m \u001b[43mwriter\u001b[49m\u001b[38;5;241;43m.\u001b[39;49m\u001b[43mwriterow\u001b[49m\u001b[43m(\u001b[49m\u001b[43mdata_dict\u001b[49m\u001b[43m)\u001b[49m\n\u001b[0;32m     31\u001b[0m time\u001b[38;5;241m.\u001b[39msleep(\u001b[38;5;241m3\u001b[39m)\n",
      "File \u001b[1;32mC:\\Program Files\\WindowsApps\\PythonSoftwareFoundation.Python.3.11_3.11.2544.0_x64__qbz5n2kfra8p0\\Lib\\csv.py:154\u001b[0m, in \u001b[0;36mDictWriter.writerow\u001b[1;34m(self, rowdict)\u001b[0m\n\u001b[0;32m    153\u001b[0m \u001b[38;5;28;01mdef\u001b[39;00m \u001b[38;5;21mwriterow\u001b[39m(\u001b[38;5;28mself\u001b[39m, rowdict):\n\u001b[1;32m--> 154\u001b[0m     \u001b[38;5;28;01mreturn\u001b[39;00m \u001b[38;5;28mself\u001b[39m\u001b[38;5;241m.\u001b[39mwriter\u001b[38;5;241m.\u001b[39mwriterow(\u001b[38;5;28;43mself\u001b[39;49m\u001b[38;5;241;43m.\u001b[39;49m\u001b[43m_dict_to_list\u001b[49m\u001b[43m(\u001b[49m\u001b[43mrowdict\u001b[49m\u001b[43m)\u001b[49m)\n",
      "File \u001b[1;32mC:\\Program Files\\WindowsApps\\PythonSoftwareFoundation.Python.3.11_3.11.2544.0_x64__qbz5n2kfra8p0\\Lib\\csv.py:149\u001b[0m, in \u001b[0;36mDictWriter._dict_to_list\u001b[1;34m(self, rowdict)\u001b[0m\n\u001b[0;32m    147\u001b[0m     wrong_fields \u001b[38;5;241m=\u001b[39m rowdict\u001b[38;5;241m.\u001b[39mkeys() \u001b[38;5;241m-\u001b[39m \u001b[38;5;28mself\u001b[39m\u001b[38;5;241m.\u001b[39mfieldnames\n\u001b[0;32m    148\u001b[0m     \u001b[38;5;28;01mif\u001b[39;00m wrong_fields:\n\u001b[1;32m--> 149\u001b[0m         \u001b[38;5;28;01mraise\u001b[39;00m \u001b[38;5;167;01mValueError\u001b[39;00m(\u001b[38;5;124m\"\u001b[39m\u001b[38;5;124mdict contains fields not in fieldnames: \u001b[39m\u001b[38;5;124m\"\u001b[39m\n\u001b[0;32m    150\u001b[0m                          \u001b[38;5;241m+\u001b[39m \u001b[38;5;124m\"\u001b[39m\u001b[38;5;124m, \u001b[39m\u001b[38;5;124m\"\u001b[39m\u001b[38;5;241m.\u001b[39mjoin([\u001b[38;5;28mrepr\u001b[39m(x) \u001b[38;5;28;01mfor\u001b[39;00m x \u001b[38;5;129;01min\u001b[39;00m wrong_fields]))\n\u001b[0;32m    151\u001b[0m \u001b[38;5;28;01mreturn\u001b[39;00m (rowdict\u001b[38;5;241m.\u001b[39mget(key, \u001b[38;5;28mself\u001b[39m\u001b[38;5;241m.\u001b[39mrestval) \u001b[38;5;28;01mfor\u001b[39;00m key \u001b[38;5;129;01min\u001b[39;00m \u001b[38;5;28mself\u001b[39m\u001b[38;5;241m.\u001b[39mfieldnames)\n",
      "\u001b[1;31mValueError\u001b[0m: dict contains fields not in fieldnames: None"
     ]
    }
   ],
   "source": [
    "with open('team_data.csv', 'w', newline='') as csvfile:\n",
    "    fieldnames = FIELDS\n",
    "    writer = csv.DictWriter(csvfile, fieldnames=fieldnames)\n",
    "    writer.writeheader()\n",
    "    for link in team_links:\n",
    "        data_dict = {}\n",
    "        new_site = 'https://www.hockey-reference.com' + link\n",
    "        response = requests.get(new_site)\n",
    "        soup = BeautifulSoup(response.text, 'html.parser')\n",
    "        team_name = soup.select(selector='h1 span')[1].text\n",
    "        division = soup.select(selector='div#meta div p')[2].text.split(' ')[7][4:]\n",
    "        season = soup.select(selector='h1 span')[0].text\n",
    "        data_dict['Name'] = team_name\n",
    "        data_dict['Division'] = division\n",
    "        data_dict['Season'] = season\n",
    "        team_stats = soup.select(selector='table#team_stats tr')[1]\n",
    "        team_analytics = soup.select(selector='table#team_stats_adv tr')[1]\n",
    "        for stat in team_stats:\n",
    "            statistic = stat.get('aria-label')\n",
    "            if statistic == 'team_name':\n",
    "                continue\n",
    "            value = stat.text\n",
    "            data_dict[statistic] = value\n",
    "        for analytic in team_analytics:\n",
    "            statistic = analytic.get('aria-label')\n",
    "            if statistic == 'team_name':\n",
    "                continue\n",
    "            value = analytic.text\n",
    "            data_dict[statistic] = value\n",
    "        writer.writerow(data_dict)\n",
    "        time.sleep(10)"
   ]
  }
 ],
 "metadata": {
  "kernelspec": {
   "display_name": ".venv",
   "language": "python",
   "name": "python3"
  },
  "language_info": {
   "codemirror_mode": {
    "name": "ipython",
    "version": 3
   },
   "file_extension": ".py",
   "mimetype": "text/x-python",
   "name": "python",
   "nbconvert_exporter": "python",
   "pygments_lexer": "ipython3",
   "version": "3.11.9"
  }
 },
 "nbformat": 4,
 "nbformat_minor": 2
}
